{
 "cells": [
  {
   "cell_type": "code",
   "execution_count": 28,
   "metadata": {},
   "outputs": [],
   "source": [
    "import numpy as np\n",
    "import pandas as pd\n",
    "from sklearn.metrics.pairwise import cosine_similarity\n",
    "import pickle"
   ]
  },
  {
   "cell_type": "code",
   "execution_count": 29,
   "metadata": {},
   "outputs": [],
   "source": [
    "\n",
    "def merge_datasets(path):\t#takes the path and returns a merged dataset\n",
    "    data_m = pd.read_csv(path+'movies.csv')\n",
    "    data_r = pd.read_csv(path+'ratings.csv')\n",
    "    data_u = pd.read_csv(path+'users.csv')\n",
    "\n",
    "    movie_ratings = pd.merge(data_m, data_r)\n",
    "    lens = pd.merge(movie_ratings, data_u)\n",
    "    #print(lens.head())\n",
    "\n",
    "    #most_rated = lens.groupby('title').size().sort_values(ascending=False)[:25]\n",
    "    #print(most_rated)\n",
    "\n",
    "    return lens\n",
    "\n",
    "def create_user_item_pair(data):\n",
    "    ## picks top k rated movies & top k users with most ratings\n",
    "    ## selects subset containing only above users and movies\n",
    "    ## creates (user, item) pair matrix with rating as cell value\n",
    "    lens = data.copy()\n",
    "\n",
    "    most_rated_users = lens.groupby('userId').size().sort_values(ascending=False)\n",
    "    mru_keys = list(most_rated_users.keys())[:600]\n",
    "\n",
    "    most_rated_movies = lens.groupby('itemId').size().sort_values(ascending=False)\n",
    "    mrm_keys = list(most_rated_movies.keys())[:400]\n",
    "\n",
    "\n",
    "    data = data.loc[data['userId'].isin(mru_keys) & data['itemId'].isin(mrm_keys)]\n",
    "    data = data.pivot(index='userId', columns='itemId', values='rating')\n",
    "    data = np.where(np.isnan(data),0, data)\n",
    "    #print(data.head())\n",
    "    return data\n",
    "\n",
    "def create_matrix_I(data):\n",
    "    I = data.copy()\n",
    "    I = np.asarray(I)\n",
    "    I = np.where(np.isnan(I), 0, 1)\n",
    "    \n",
    "    return I    \n"
   ]
  },
  {
   "cell_type": "code",
   "execution_count": 30,
   "metadata": {},
   "outputs": [],
   "source": [
    "def create_user_user_similarity_matrix(data):\n",
    "    uu_matrix = cosine_similarity(data)\n",
    "    return uu_matrix\n",
    "    \n",
    "def create_prediction_matrix(A, uu_matrix):\n",
    "    pred_matrix = np.zeros(A.shape)\n",
    "    K = A.shape[0] #no. of users\n",
    "    w = A.shape[1] #no. of items\n",
    "    \n",
    "    mean_ratings_of_users = []\n",
    "    sum_of_user_similarity = []\n",
    "    for i in range(K):\n",
    "        mean = np.sum(A[i])/np.count_nonzero(A[i])\n",
    "        mean_ratings_of_users.append(mean)\n",
    "        sum_of_user_similarity.append(np.sum(uu_matrix[i]))\n",
    "    for i in range(0, w): #items\n",
    "        for a in range(0, K): #users\n",
    "            sum = 0\n",
    "            for u in range(K):\n",
    "                sum += (A[u][i] - mean_ratings_of_users[u]) * uu_matrix[a][u]\n",
    "            sum /= sum_of_user_similarity[a]\n",
    "            \n",
    "            pred_matrix[a][i] = mean_ratings_of_users[a] + sum\n",
    "            \n",
    "    return pred_matrix\n",
    "        \n",
    "\n",
    "def create_episode_matrix(user_item_matrix):\n",
    "    episode_matrix = []\n",
    "    r = user_item_matrix.shape[0]\n",
    "    c = user_item_matrix.shape[1]\n",
    "    for i in range(r):\n",
    "        temp = []\n",
    "        for j in range(c):\n",
    "            if user_item_matrix[i][j] > 0:\n",
    "                temp.append(user_item_matrix[i][j])\n",
    "        episode_matrix.append(temp)\n",
    "    return episode_matrix\n",
    "\n",
    "\n",
    "def reward(j, i, episode_matrix, pred_matrix):\n",
    "    return episode_matrix[i][j+2] - pred_matrix[i][j]\n",
    "\n",
    "\n",
    "def train_rlcf():\n",
    "    pass"
   ]
  },
  {
   "cell_type": "code",
   "execution_count": 34,
   "metadata": {},
   "outputs": [
    {
     "name": "stdout",
     "output_type": "stream",
     "text": [
      "[[3.3101449  2.223722   2.94294414 ... 2.07473945 2.40824106 1.66081698]\n",
      " [2.50215427 1.43050395 2.11143066 ... 1.25743752 1.58533693 0.90029451]\n",
      " [3.70870635 2.5905515  3.26310058 ... 2.44923261 2.74436332 2.02727955]\n",
      " ...\n",
      " [2.7150667  1.62727352 2.31855343 ... 1.4990172  1.82925543 1.11158886]\n",
      " [2.56758441 1.42875382 2.05419027 ... 1.29457637 1.62343191 0.82242377]\n",
      " [2.69110883 1.55924108 2.19356741 ... 1.41982295 1.72470732 0.96499373]]\n",
      "196 258\n"
     ]
    }
   ],
   "source": [
    "def main():\n",
    "    path = 'data/'\n",
    "    data = merge_datasets(path)\n",
    "\n",
    "    A = create_user_item_pair(data)\n",
    "    I = create_matrix_I(A)\n",
    "    uu_matrix = create_user_user_similarity_matrix(A)\n",
    "    '''pred_matrix = create_prediction_matrix(A, uu_matrix)\n",
    "    pickle_out = open('pred_matrix.pickle', 'wb')\n",
    "    pickle.dump(pred_matrix, pickle_out)\n",
    "    pickle_out.close()'''\n",
    "    \n",
    "    pickle_in = open('pred_matrix.pickle', 'rb')\n",
    "    pred_matrix = pickle.load(pickle_in)\n",
    "    print(pred_matrix)\n",
    "    episode_matrix = create_episode_matrix(A)\n",
    "    print(len(episode_matrix[0]), len(episode_matrix[1]))\n",
    "\n",
    "if __name__ == '__main__':\n",
    "    main()"
   ]
  },
  {
   "cell_type": "code",
   "execution_count": null,
   "metadata": {},
   "outputs": [],
   "source": [
    "5:59:46"
   ]
  },
  {
   "cell_type": "code",
   "execution_count": null,
   "metadata": {},
   "outputs": [],
   "source": []
  }
 ],
 "metadata": {
  "kernelspec": {
   "display_name": "Python 3",
   "language": "python",
   "name": "python3"
  },
  "language_info": {
   "codemirror_mode": {
    "name": "ipython",
    "version": 3
   },
   "file_extension": ".py",
   "mimetype": "text/x-python",
   "name": "python",
   "nbconvert_exporter": "python",
   "pygments_lexer": "ipython3",
   "version": "3.7.1"
  }
 },
 "nbformat": 4,
 "nbformat_minor": 2
}
