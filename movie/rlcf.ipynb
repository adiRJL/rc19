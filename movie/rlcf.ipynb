{
 "cells": [
  {
   "cell_type": "code",
   "execution_count": 1,
   "metadata": {},
   "outputs": [],
   "source": [
    "import numpy as np\n",
    "import pandas as pd"
   ]
  },
  {
   "cell_type": "code",
   "execution_count": 33,
   "metadata": {},
   "outputs": [],
   "source": [
    "\n",
    "def mergeDatasets(path):\t#takes the path and returns a merged dataset\n",
    "    data_m = pd.read_csv(path+'movies.csv')\n",
    "    data_r = pd.read_csv(path+'ratings.csv')\n",
    "    data_u = pd.read_csv(path+'users.csv')\n",
    "\n",
    "    movie_ratings = pd.merge(data_m, data_r)\n",
    "    lens = pd.merge(movie_ratings, data_u)\n",
    "    #print(lens.head())\n",
    "\n",
    "    #most_rated = lens.groupby('title').size().sort_values(ascending=False)[:25]\n",
    "    #print(most_rated)\n",
    "\n",
    "    return lens\n",
    "\n",
    "def createUserItemPair(data):\n",
    "    ## picks top k rated movies & top k users with most ratings\n",
    "    ## selects subset containing only above users and movies\n",
    "    ## creates (user, item) pair matrix with rating as cell value\n",
    "    lens = data.copy()\n",
    "\n",
    "    most_rated_users = lens.groupby('userId').size().sort_values(ascending=False)\n",
    "    mru_keys = list(most_rated_users.keys())\n",
    "\n",
    "    most_rated_movies = lens.groupby('itemId').size().sort_values(ascending=False)\n",
    "    mrm_keys = list(most_rated_movies.keys())\n",
    "\n",
    "\n",
    "    data = data.loc[data['userId'].isin(mru_keys) & data['itemId'].isin(mrm_keys)]\n",
    "    data = data.pivot(index='userId', columns='itemId', values='rating')\n",
    "    #print(data.head())\n",
    "    return data\n",
    "\n",
    "def createMatrixI(data):\n",
    "    I = data.copy()\n",
    "    I = I.to_numpy()\n",
    "    I = np.where(np.isnan(I), 0, 1)\n",
    "    \n",
    "    return I    "
   ]
  },
  {
   "cell_type": "code",
   "execution_count": 34,
   "metadata": {},
   "outputs": [
    {
     "name": "stdout",
     "output_type": "stream",
     "text": [
      "[[1 1 1 ... 0 0 0]\n",
      " [1 0 0 ... 0 0 0]\n",
      " [0 0 0 ... 0 0 0]\n",
      " ...\n",
      " [0 0 0 ... 0 0 0]\n",
      " [0 1 1 ... 0 0 0]\n",
      " [1 0 0 ... 0 0 0]]\n"
     ]
    }
   ],
   "source": [
    "def main():\n",
    "    path = 'data/'\n",
    "    data = mergeDatasets(path)\n",
    "\n",
    "    A = createUserItemPair(data)\n",
    "    I = createMatrixI(A)\n",
    "    \n",
    "\n",
    "\n",
    "\n",
    "if __name__ == '__main__':\n",
    "    main()"
   ]
  },
  {
   "cell_type": "code",
   "execution_count": null,
   "metadata": {},
   "outputs": [],
   "source": []
  }
 ],
 "metadata": {
  "kernelspec": {
   "display_name": "Python 3",
   "language": "python",
   "name": "python3"
  },
  "language_info": {
   "codemirror_mode": {
    "name": "ipython",
    "version": 3
   },
   "file_extension": ".py",
   "mimetype": "text/x-python",
   "name": "python",
   "nbconvert_exporter": "python",
   "pygments_lexer": "ipython3",
   "version": "3.7.3"
  }
 },
 "nbformat": 4,
 "nbformat_minor": 2
}
