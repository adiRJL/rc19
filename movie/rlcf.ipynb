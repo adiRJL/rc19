{
 "cells": [
  {
   "cell_type": "code",
   "execution_count": 1,
   "metadata": {},
   "outputs": [],
   "source": [
    "import numpy as np\n",
    "import pandas as pd\n",
    "from sklearn.metrics.pairwise import cosine_similarity"
   ]
  },
  {
   "cell_type": "code",
   "execution_count": 8,
   "metadata": {},
   "outputs": [],
   "source": [
    "\n",
    "def mergeDatasets(path):\t#takes the path and returns a merged dataset\n",
    "    data_m = pd.read_csv(path+'movies.csv')\n",
    "    data_r = pd.read_csv(path+'ratings.csv')\n",
    "    data_u = pd.read_csv(path+'users.csv')\n",
    "\n",
    "    movie_ratings = pd.merge(data_m, data_r)\n",
    "    lens = pd.merge(movie_ratings, data_u)\n",
    "    #print(lens.head())\n",
    "\n",
    "    #most_rated = lens.groupby('title').size().sort_values(ascending=False)[:25]\n",
    "    #print(most_rated)\n",
    "\n",
    "    return lens\n",
    "\n",
    "def createUserItemPair(data):\n",
    "    ## picks top k rated movies & top k users with most ratings\n",
    "    ## selects subset containing only above users and movies\n",
    "    ## creates (user, item) pair matrix with rating as cell value\n",
    "    lens = data.copy()\n",
    "\n",
    "    most_rated_users = lens.groupby('userId').size().sort_values(ascending=False)\n",
    "    mru_keys = list(most_rated_users.keys())\n",
    "\n",
    "    most_rated_movies = lens.groupby('itemId').size().sort_values(ascending=False)\n",
    "    mrm_keys = list(most_rated_movies.keys())\n",
    "\n",
    "\n",
    "    data = data.loc[data['userId'].isin(mru_keys) & data['itemId'].isin(mrm_keys)]\n",
    "    data = data.pivot(index='userId', columns='itemId', values='rating')\n",
    "    data = np.where(np.isnan(data),0, data)\n",
    "    #print(data.head())\n",
    "    return data\n",
    "\n",
    "def createMatrixI(data):\n",
    "    I = data.copy()\n",
    "    I = np.asarray(I)\n",
    "    I = np.where(np.isnan(I), 0, 1)\n",
    "    \n",
    "    return I    \n"
   ]
  },
  {
   "cell_type": "code",
   "execution_count": 11,
   "metadata": {},
   "outputs": [],
   "source": [
    "def user_user_similarity_matrix(data):\n",
    "    uu_matrix = cosine_similarity(data)\n",
    "    return uu_matrix\n",
    "    \n",
    "def prediction_matrix(A, uu_matrix):\n",
    "    pred_matrix = np.zeros(A.shape)\n",
    "    K = A.shape[0] #no. of users\n",
    "    w = A.shape[1] #no. of items\n",
    "    \n",
    "    mean_ratings_of_users = []\n",
    "    for i in range(K):\n",
    "        mean = np.sum(A[i])/np.count_nonzero(A[i])\n",
    "        mean_ratings_of_users.append(mean)\n",
    "    \n",
    "    for i in range(0, w): #items\n",
    "        for a in range(0, K): #users\n",
    "            sum = 0\n",
    "            for u in range(K):\n",
    "                sum += (A[u][i] - mean_ratings_of_users[u]) * uu_matrix[a][u]\n",
    "            sum /= np.sum(uu_matrix[a])\n",
    "            \n",
    "            pred_matrix[a][i] = mean_ratings_of_users[a] + sum\n",
    "            \n",
    "    return pred_matrix\n",
    "        \n",
    "    \n",
    "def collab_filtering():\n",
    "    \n",
    "    pass"
   ]
  },
  {
   "cell_type": "code",
   "execution_count": 12,
   "metadata": {},
   "outputs": [
    {
     "ename": "KeyboardInterrupt",
     "evalue": "",
     "output_type": "error",
     "traceback": [
      "\u001b[1;31m---------------------------------------------------------------------------\u001b[0m",
      "\u001b[1;31mKeyboardInterrupt\u001b[0m                         Traceback (most recent call last)",
      "\u001b[1;32m<ipython-input-12-1c805e924be3>\u001b[0m in \u001b[0;36m<module>\u001b[1;34m\u001b[0m\n\u001b[0;32m      9\u001b[0m \u001b[1;33m\u001b[0m\u001b[0m\n\u001b[0;32m     10\u001b[0m \u001b[1;32mif\u001b[0m \u001b[0m__name__\u001b[0m \u001b[1;33m==\u001b[0m \u001b[1;34m'__main__'\u001b[0m\u001b[1;33m:\u001b[0m\u001b[1;33m\u001b[0m\u001b[1;33m\u001b[0m\u001b[0m\n\u001b[1;32m---> 11\u001b[1;33m     \u001b[0mmain\u001b[0m\u001b[1;33m(\u001b[0m\u001b[1;33m)\u001b[0m\u001b[1;33m\u001b[0m\u001b[1;33m\u001b[0m\u001b[0m\n\u001b[0m",
      "\u001b[1;32m<ipython-input-12-1c805e924be3>\u001b[0m in \u001b[0;36mmain\u001b[1;34m()\u001b[0m\n\u001b[0;32m      6\u001b[0m     \u001b[0mI\u001b[0m \u001b[1;33m=\u001b[0m \u001b[0mcreateMatrixI\u001b[0m\u001b[1;33m(\u001b[0m\u001b[0mA\u001b[0m\u001b[1;33m)\u001b[0m\u001b[1;33m\u001b[0m\u001b[1;33m\u001b[0m\u001b[0m\n\u001b[0;32m      7\u001b[0m     \u001b[0muu_matrix\u001b[0m \u001b[1;33m=\u001b[0m \u001b[0muser_user_similarity_matrix\u001b[0m\u001b[1;33m(\u001b[0m\u001b[0mA\u001b[0m\u001b[1;33m)\u001b[0m\u001b[1;33m\u001b[0m\u001b[1;33m\u001b[0m\u001b[0m\n\u001b[1;32m----> 8\u001b[1;33m     \u001b[0mpred_matrix\u001b[0m \u001b[1;33m=\u001b[0m \u001b[0mprediction_matrix\u001b[0m\u001b[1;33m(\u001b[0m\u001b[0mA\u001b[0m\u001b[1;33m,\u001b[0m \u001b[0muu_matrix\u001b[0m\u001b[1;33m)\u001b[0m\u001b[1;33m\u001b[0m\u001b[1;33m\u001b[0m\u001b[0m\n\u001b[0m\u001b[0;32m      9\u001b[0m \u001b[1;33m\u001b[0m\u001b[0m\n\u001b[0;32m     10\u001b[0m \u001b[1;32mif\u001b[0m \u001b[0m__name__\u001b[0m \u001b[1;33m==\u001b[0m \u001b[1;34m'__main__'\u001b[0m\u001b[1;33m:\u001b[0m\u001b[1;33m\u001b[0m\u001b[1;33m\u001b[0m\u001b[0m\n",
      "\u001b[1;32m<ipython-input-11-bd203a53c7bb>\u001b[0m in \u001b[0;36mprediction_matrix\u001b[1;34m(A, uu_matrix)\u001b[0m\n\u001b[0;32m     17\u001b[0m             \u001b[0msum\u001b[0m \u001b[1;33m=\u001b[0m \u001b[1;36m0\u001b[0m\u001b[1;33m\u001b[0m\u001b[1;33m\u001b[0m\u001b[0m\n\u001b[0;32m     18\u001b[0m             \u001b[1;32mfor\u001b[0m \u001b[0mu\u001b[0m \u001b[1;32min\u001b[0m \u001b[0mrange\u001b[0m\u001b[1;33m(\u001b[0m\u001b[0mK\u001b[0m\u001b[1;33m)\u001b[0m\u001b[1;33m:\u001b[0m\u001b[1;33m\u001b[0m\u001b[1;33m\u001b[0m\u001b[0m\n\u001b[1;32m---> 19\u001b[1;33m                 \u001b[0msum\u001b[0m \u001b[1;33m+=\u001b[0m \u001b[1;33m(\u001b[0m\u001b[0mA\u001b[0m\u001b[1;33m[\u001b[0m\u001b[0mu\u001b[0m\u001b[1;33m]\u001b[0m\u001b[1;33m[\u001b[0m\u001b[0mi\u001b[0m\u001b[1;33m]\u001b[0m \u001b[1;33m-\u001b[0m \u001b[0mmean_ratings_of_users\u001b[0m\u001b[1;33m[\u001b[0m\u001b[0mu\u001b[0m\u001b[1;33m]\u001b[0m\u001b[1;33m)\u001b[0m \u001b[1;33m*\u001b[0m \u001b[0muu_matrix\u001b[0m\u001b[1;33m[\u001b[0m\u001b[0ma\u001b[0m\u001b[1;33m]\u001b[0m\u001b[1;33m[\u001b[0m\u001b[0mu\u001b[0m\u001b[1;33m]\u001b[0m\u001b[1;33m\u001b[0m\u001b[1;33m\u001b[0m\u001b[0m\n\u001b[0m\u001b[0;32m     20\u001b[0m             \u001b[0msum\u001b[0m \u001b[1;33m/=\u001b[0m \u001b[0mnp\u001b[0m\u001b[1;33m.\u001b[0m\u001b[0msum\u001b[0m\u001b[1;33m(\u001b[0m\u001b[0muu_matrix\u001b[0m\u001b[1;33m[\u001b[0m\u001b[0ma\u001b[0m\u001b[1;33m]\u001b[0m\u001b[1;33m)\u001b[0m\u001b[1;33m\u001b[0m\u001b[1;33m\u001b[0m\u001b[0m\n\u001b[0;32m     21\u001b[0m \u001b[1;33m\u001b[0m\u001b[0m\n",
      "\u001b[1;31mKeyboardInterrupt\u001b[0m: "
     ]
    }
   ],
   "source": [
    "def main():\n",
    "    path = 'data/'\n",
    "    data = mergeDatasets(path)\n",
    "\n",
    "    A = createUserItemPair(data)\n",
    "    I = createMatrixI(A)\n",
    "    uu_matrix = user_user_similarity_matrix(A)\n",
    "    pred_matrix = prediction_matrix(A, uu_matrix)\n",
    "\n",
    "if __name__ == '__main__':\n",
    "    main()"
   ]
  },
  {
   "cell_type": "code",
   "execution_count": null,
   "metadata": {},
   "outputs": [],
   "source": [
    "10.16.40"
   ]
  },
  {
   "cell_type": "code",
   "execution_count": null,
   "metadata": {},
   "outputs": [],
   "source": []
  }
 ],
 "metadata": {
  "kernelspec": {
   "display_name": "Python 3",
   "language": "python",
   "name": "python3"
  },
  "language_info": {
   "codemirror_mode": {
    "name": "ipython",
    "version": 3
   },
   "file_extension": ".py",
   "mimetype": "text/x-python",
   "name": "python",
   "nbconvert_exporter": "python",
   "pygments_lexer": "ipython3",
   "version": "3.7.3"
  }
 },
 "nbformat": 4,
 "nbformat_minor": 2
}
