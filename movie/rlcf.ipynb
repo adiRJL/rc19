{
 "cells": [
  {
   "cell_type": "code",
   "execution_count": 1,
   "metadata": {},
   "outputs": [],
   "source": [
    "import numpy as np\n",
    "import pandas as pd\n",
    "from sklearn.metrics.pairwise import cosine_similarity\n",
    "import pickle"
   ]
  },
  {
   "cell_type": "code",
   "execution_count": 2,
   "metadata": {},
   "outputs": [],
   "source": [
    "\n",
    "def merge_datasets(path):\t#takes the path and returns a merged dataset\n",
    "    data_m = pd.read_csv(path+'movies.csv')\n",
    "    data_r = pd.read_csv(path+'ratings.csv')\n",
    "    data_u = pd.read_csv(path+'users.csv')\n",
    "\n",
    "    movie_ratings = pd.merge(data_m, data_r)\n",
    "    lens = pd.merge(movie_ratings, data_u)\n",
    "    #print(lens.head())\n",
    "\n",
    "    #most_rated = lens.groupby('title').size().sort_values(ascending=False)[:25]\n",
    "    #print(most_rated)\n",
    "\n",
    "    return lens\n",
    "\n",
    "def create_user_item_pair(data):\n",
    "    ## picks top k rated movies & top k users with most ratings\n",
    "    ## selects subset containing only above users and movies\n",
    "    ## creates (user, item) pair matrix with rating as cell value\n",
    "    lens = data.copy()\n",
    "\n",
    "    most_rated_users = lens.groupby('userId').size().sort_values(ascending=False)\n",
    "    mru_keys = list(most_rated_users.keys())[:600]\n",
    "\n",
    "    most_rated_movies = lens.groupby('itemId').size().sort_values(ascending=False)\n",
    "    mrm_keys = list(most_rated_movies.keys())[:400]\n",
    "\n",
    "\n",
    "    data = data.loc[data['userId'].isin(mru_keys) & data['itemId'].isin(mrm_keys)]\n",
    "    data = data.pivot(index='userId', columns='itemId', values='rating')\n",
    "    data = np.where(np.isnan(data),0, data)\n",
    "    #print(data.head())\n",
    "    return data\n",
    "\n",
    "def create_matrix_I(data):\n",
    "    I = data.copy()\n",
    "    I = np.asarray(I)\n",
    "    I = np.where(np.isnan(I), 0, 1)\n",
    "    \n",
    "    return I    \n"
   ]
  },
  {
   "cell_type": "code",
   "execution_count": 3,
   "metadata": {},
   "outputs": [],
   "source": [
    "def create_user_user_similarity_matrix(data):\n",
    "    uu_matrix = cosine_similarity(data)\n",
    "    return uu_matrix\n",
    "    \n",
    "def create_prediction_matrix(A, uu_matrix):\n",
    "    pred_matrix = np.zeros(A.shape)\n",
    "    K = A.shape[0] #no. of users\n",
    "    w = A.shape[1] #no. of items\n",
    "    \n",
    "    mean_ratings_of_users = []\n",
    "    sum_of_user_similarity = []\n",
    "    for i in range(K):\n",
    "        mean = np.sum(A[i])/np.count_nonzero(A[i])\n",
    "        mean_ratings_of_users.append(mean)\n",
    "        sum_of_user_similarity.append(np.sum(uu_matrix[i]))\n",
    "    for i in range(0, w): #items\n",
    "        for a in range(0, K): #users\n",
    "            sum = 0\n",
    "            for u in range(K):\n",
    "                sum += (A[u][i] - mean_ratings_of_users[u]) * uu_matrix[a][u]\n",
    "            sum /= sum_of_user_similarity[a]\n",
    "            \n",
    "            pred_matrix[a][i] = mean_ratings_of_users[a] + sum\n",
    "            \n",
    "    return pred_matrix\n",
    "        \n",
    "\n",
    "def create_episode_matrix(user_item_matrix):\n",
    "    episode_matrix = []\n",
    "    r = user_item_matrix.shape[0]\n",
    "    c = user_item_matrix.shape[1]\n",
    "    for i in range(r):\n",
    "        temp = []\n",
    "        for j in range(c):\n",
    "            if user_item_matrix[i][j] > 0:\n",
    "                temp.append(user_item_matrix[i][j])\n",
    "        episode_matrix.append(temp)\n",
    "    return episode_matrix\n",
    "\n",
    "\n",
    "def reward(j, i, episode_matrix, pred_matrix):\n",
    "    ## episode_matrix contains rating of ith user, jth movie\n",
    "    return episode_matrix[i][j+2] - pred_matrix[i][j]\n",
    "\n",
    "\n",
    "def train_rlcf(episode_matrix, pred_matrix, alpha=0.1, discount=0.9):\n",
    "    ## |S| = 10 [0.5, 5] \n",
    "    Q = np.zeros((10, 10))\n",
    "    K = len(episode_matrix)\n",
    "    for i in range(K): #users\n",
    "        for j in range(len(episode_matrix[i])-1): #items\n",
    "            r = reward(j, i, episode_matrix, pred_matrix)\n",
    "            Q[] = Q[i][j] + alpha*(r + (discount * episode_matrix[i][j+1]) - Q[i][j])\n",
    "    return Q"
   ]
  },
  {
   "cell_type": "code",
   "execution_count": 4,
   "metadata": {},
   "outputs": [
    {
     "ename": "IndexError",
     "evalue": "index 10 is out of bounds for axis 0 with size 10",
     "output_type": "error",
     "traceback": [
      "\u001b[1;31m---------------------------------------------------------------------------\u001b[0m",
      "\u001b[1;31mIndexError\u001b[0m                                Traceback (most recent call last)",
      "\u001b[1;32m<ipython-input-4-2a61330d0b80>\u001b[0m in \u001b[0;36m<module>\u001b[1;34m\u001b[0m\n\u001b[0;32m     19\u001b[0m \u001b[1;33m\u001b[0m\u001b[0m\n\u001b[0;32m     20\u001b[0m \u001b[1;32mif\u001b[0m \u001b[0m__name__\u001b[0m \u001b[1;33m==\u001b[0m \u001b[1;34m'__main__'\u001b[0m\u001b[1;33m:\u001b[0m\u001b[1;33m\u001b[0m\u001b[1;33m\u001b[0m\u001b[0m\n\u001b[1;32m---> 21\u001b[1;33m     \u001b[0mmain\u001b[0m\u001b[1;33m(\u001b[0m\u001b[1;33m)\u001b[0m\u001b[1;33m\u001b[0m\u001b[1;33m\u001b[0m\u001b[0m\n\u001b[0m",
      "\u001b[1;32m<ipython-input-4-2a61330d0b80>\u001b[0m in \u001b[0;36mmain\u001b[1;34m()\u001b[0m\n\u001b[0;32m     16\u001b[0m     \u001b[0mepisode_matrix\u001b[0m \u001b[1;33m=\u001b[0m \u001b[0mcreate_episode_matrix\u001b[0m\u001b[1;33m(\u001b[0m\u001b[0mA\u001b[0m\u001b[1;33m)\u001b[0m\u001b[1;33m\u001b[0m\u001b[1;33m\u001b[0m\u001b[0m\n\u001b[0;32m     17\u001b[0m \u001b[1;33m\u001b[0m\u001b[0m\n\u001b[1;32m---> 18\u001b[1;33m     \u001b[0mQ\u001b[0m \u001b[1;33m=\u001b[0m \u001b[0mtrain_rlcf\u001b[0m\u001b[1;33m(\u001b[0m\u001b[0mepisode_matrix\u001b[0m\u001b[1;33m,\u001b[0m \u001b[0mpred_matrix\u001b[0m\u001b[1;33m,\u001b[0m \u001b[0malpha\u001b[0m\u001b[1;33m=\u001b[0m\u001b[1;36m0.1\u001b[0m\u001b[1;33m,\u001b[0m \u001b[0mdiscount\u001b[0m\u001b[1;33m=\u001b[0m\u001b[1;36m0.9\u001b[0m\u001b[1;33m)\u001b[0m\u001b[1;33m\u001b[0m\u001b[1;33m\u001b[0m\u001b[0m\n\u001b[0m\u001b[0;32m     19\u001b[0m \u001b[1;33m\u001b[0m\u001b[0m\n\u001b[0;32m     20\u001b[0m \u001b[1;32mif\u001b[0m \u001b[0m__name__\u001b[0m \u001b[1;33m==\u001b[0m \u001b[1;34m'__main__'\u001b[0m\u001b[1;33m:\u001b[0m\u001b[1;33m\u001b[0m\u001b[1;33m\u001b[0m\u001b[0m\n",
      "\u001b[1;32m<ipython-input-3-bb66a25d74cc>\u001b[0m in \u001b[0;36mtrain_rlcf\u001b[1;34m(episode_matrix, pred_matrix, alpha, discount)\u001b[0m\n\u001b[0;32m     50\u001b[0m         \u001b[1;32mfor\u001b[0m \u001b[0mj\u001b[0m \u001b[1;32min\u001b[0m \u001b[0mrange\u001b[0m\u001b[1;33m(\u001b[0m\u001b[0mlen\u001b[0m\u001b[1;33m(\u001b[0m\u001b[0mepisode_matrix\u001b[0m\u001b[1;33m[\u001b[0m\u001b[0mi\u001b[0m\u001b[1;33m]\u001b[0m\u001b[1;33m)\u001b[0m\u001b[1;33m-\u001b[0m\u001b[1;36m1\u001b[0m\u001b[1;33m)\u001b[0m\u001b[1;33m:\u001b[0m \u001b[1;31m#items\u001b[0m\u001b[1;33m\u001b[0m\u001b[1;33m\u001b[0m\u001b[0m\n\u001b[0;32m     51\u001b[0m             \u001b[0mr\u001b[0m \u001b[1;33m=\u001b[0m \u001b[0mreward\u001b[0m\u001b[1;33m(\u001b[0m\u001b[0mj\u001b[0m\u001b[1;33m,\u001b[0m \u001b[0mi\u001b[0m\u001b[1;33m,\u001b[0m \u001b[0mepisode_matrix\u001b[0m\u001b[1;33m,\u001b[0m \u001b[0mpred_matrix\u001b[0m\u001b[1;33m)\u001b[0m\u001b[1;33m\u001b[0m\u001b[1;33m\u001b[0m\u001b[0m\n\u001b[1;32m---> 52\u001b[1;33m             \u001b[0mQ\u001b[0m\u001b[1;33m[\u001b[0m\u001b[0mi\u001b[0m\u001b[1;33m]\u001b[0m\u001b[1;33m[\u001b[0m\u001b[0mj\u001b[0m\u001b[1;33m]\u001b[0m \u001b[1;33m=\u001b[0m \u001b[0mQ\u001b[0m\u001b[1;33m[\u001b[0m\u001b[0mi\u001b[0m\u001b[1;33m]\u001b[0m\u001b[1;33m[\u001b[0m\u001b[0mj\u001b[0m\u001b[1;33m]\u001b[0m \u001b[1;33m+\u001b[0m \u001b[0malpha\u001b[0m\u001b[1;33m*\u001b[0m\u001b[1;33m(\u001b[0m\u001b[0mr\u001b[0m \u001b[1;33m+\u001b[0m \u001b[1;33m(\u001b[0m\u001b[0mdiscount\u001b[0m \u001b[1;33m*\u001b[0m \u001b[0mepisode_matrix\u001b[0m\u001b[1;33m[\u001b[0m\u001b[0mi\u001b[0m\u001b[1;33m]\u001b[0m\u001b[1;33m[\u001b[0m\u001b[0mj\u001b[0m\u001b[1;33m+\u001b[0m\u001b[1;36m1\u001b[0m\u001b[1;33m]\u001b[0m\u001b[1;33m)\u001b[0m \u001b[1;33m-\u001b[0m \u001b[0mQ\u001b[0m\u001b[1;33m[\u001b[0m\u001b[0mi\u001b[0m\u001b[1;33m]\u001b[0m\u001b[1;33m[\u001b[0m\u001b[0mj\u001b[0m\u001b[1;33m]\u001b[0m\u001b[1;33m)\u001b[0m\u001b[1;33m\u001b[0m\u001b[1;33m\u001b[0m\u001b[0m\n\u001b[0m\u001b[0;32m     53\u001b[0m     \u001b[1;32mreturn\u001b[0m \u001b[0mQ\u001b[0m\u001b[1;33m\u001b[0m\u001b[1;33m\u001b[0m\u001b[0m\n",
      "\u001b[1;31mIndexError\u001b[0m: index 10 is out of bounds for axis 0 with size 10"
     ]
    }
   ],
   "source": [
    "def main():\n",
    "    path = 'data/'\n",
    "    data = merge_datasets(path)\n",
    "\n",
    "    A = create_user_item_pair(data)\n",
    "    I = create_matrix_I(A)\n",
    "    uu_matrix = create_user_user_similarity_matrix(A)\n",
    "    '''pred_matrix = create_prediction_matrix(A, uu_matrix)\n",
    "    pickle_out = open('pred_matrix.pickle', 'wb')\n",
    "    pickle.dump(pred_matrix, pickle_out)\n",
    "    pickle_out.close()'''\n",
    "    \n",
    "    pickle_in = open('pred_matrix.pickle', 'rb')\n",
    "    pred_matrix = pickle.load(pickle_in)\n",
    "    \n",
    "    episode_matrix = create_episode_matrix(A)\n",
    "    \n",
    "    Q = train_rlcf(episode_matrix, pred_matrix, alpha=0.1, discount=0.9)\n",
    "\n",
    "if __name__ == '__main__':\n",
    "    main()"
   ]
  },
  {
   "cell_type": "code",
   "execution_count": null,
   "metadata": {},
   "outputs": [],
   "source": [
    "5:59:46"
   ]
  },
  {
   "cell_type": "code",
   "execution_count": null,
   "metadata": {},
   "outputs": [],
   "source": []
  }
 ],
 "metadata": {
  "kernelspec": {
   "display_name": "Python 3",
   "language": "python",
   "name": "python3"
  },
  "language_info": {
   "codemirror_mode": {
    "name": "ipython",
    "version": 3
   },
   "file_extension": ".py",
   "mimetype": "text/x-python",
   "name": "python",
   "nbconvert_exporter": "python",
   "pygments_lexer": "ipython3",
   "version": "3.7.3"
  }
 },
 "nbformat": 4,
 "nbformat_minor": 2
}
