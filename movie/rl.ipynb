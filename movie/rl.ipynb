{
 "cells": [
  {
   "cell_type": "code",
   "execution_count": 104,
   "metadata": {},
   "outputs": [
    {
     "name": "stdout",
     "output_type": "stream",
     "text": [
      "/anaconda3/bin/python\n"
     ]
    }
   ],
   "source": [
    "import sys\n",
    "print(sys.executable)"
   ]
  },
  {
   "cell_type": "code",
   "execution_count": 105,
   "metadata": {},
   "outputs": [],
   "source": [
    "import numpy as np\n",
    "import pandas as pd\n",
    "import pickle\n",
    "from nltk.corpus import stopwords\n",
    "from sklearn.decomposition import TruncatedSVD\n",
    "from sklearn.feature_extraction.text import TfidfVectorizer\n",
    "from sklearn import preprocessing\n",
    "from sklearn.preprocessing import LabelEncoder \n",
    "from sklearn.preprocessing import normalize"
   ]
  },
  {
   "cell_type": "code",
   "execution_count": 106,
   "metadata": {},
   "outputs": [],
   "source": [
    "def preproc(path):\n",
    "    data_r = pd.read_csv(path+'ratings.csv')\n",
    "    \n",
    "    \n",
    "    data_m = pd.read_csv(path+'movies.csv')\n",
    "    \n",
    "    \n",
    "    data_m['title_genre'] = data_m['title'] + data_m['genre'] #choice b/w doing separately or together\n",
    "    \n",
    "    data_m.drop([ 'origin_iid', 'title', 'genre'], axis='columns', inplace=True)\n",
    "    #print(data_r)\n",
    "    \n",
    "    \n",
    "    \n",
    "    #data_m = data_m.loc[data_m['itemId'].isin(item_id)]\n",
    "    \n",
    "    return data_m, data_r\n",
    "\n",
    "\n",
    "def create_tfidf_svd(str_list):\n",
    "    vectorizer = TfidfVectorizer(min_df=2, max_features=70000, strip_accents='unicode',lowercase =True,\n",
    "                            analyzer='word', token_pattern=r'\\w+', use_idf=True, \n",
    "                            smooth_idf=True, sublinear_tf=True, stop_words = 'english')\n",
    "    vectors = vectorizer.fit_transform(str_list)\n",
    "    svd = TruncatedSVD(n_components = 300)\n",
    "    vectors = svd.fit_transform(vectors)    #ndarray\n",
    "    #vectors = vectors.tolist()\n",
    "    return vectors\n",
    "\n",
    "def cross_product(a, b):\n",
    "    dimension = len(a)\n",
    "    c = []\n",
    "    for i in range(dimension):\n",
    "        c.append(0)\n",
    "        for j in range(dimension):\n",
    "            if j != i:\n",
    "                for k in range(dimension):\n",
    "                    if k != i:\n",
    "                        if k > j:\n",
    "                            c[i] += a[j]*b[k]\n",
    "                        elif k < j:\n",
    "                            c[i] -= a[j] * b[k]\n",
    "    return c\n",
    "\n",
    "def state_repr_module(vectors):\n",
    "    #element wise multiplcation + concatenation/flatten\n",
    "    S = []\n",
    "    for i in range(len(vectors)):\n",
    "        S.extend(vectors[i])\n",
    "    for i in range(0 , len(vectors)):\n",
    "        for j in range(i+1, len(vectors)):\n",
    "            S.extend(np.multiply(vectors[i], vectors[j]))\n",
    "    \n",
    "    return S"
   ]
  },
  {
   "cell_type": "code",
   "execution_count": 107,
   "metadata": {},
   "outputs": [
    {
     "name": "stdout",
     "output_type": "stream",
     "text": [
      "(3706, 300)\n",
      "16500\n"
     ]
    }
   ],
   "source": [
    "def main():\n",
    "    path = 'data/'\n",
    "    data_m, data_r = preproc(path)\n",
    "    vectors = create_tfidf_svd(data_m['title_genre'])\n",
    "    print(vectors.shape)\n",
    "\n",
    "    \n",
    "    item_id = list(data_r.loc[data_r['userId'] == 0]['itemId'])\n",
    "    user_vectors = []\n",
    "    for i in item_id:\n",
    "        user_vectors.append(vectors[i])\n",
    "    \n",
    "    n = 10\n",
    "    S = state_repr_module(user_vectors[0:n])\n",
    "    print(len(S))\n",
    "\n",
    "if __name__ == '__main__':\n",
    "    main()    \n"
   ]
  },
  {
   "cell_type": "code",
   "execution_count": null,
   "metadata": {},
   "outputs": [],
   "source": [
    "\n",
    "\n",
    "\n",
    "\n",
    "\n"
   ]
  },
  {
   "cell_type": "code",
   "execution_count": null,
   "metadata": {},
   "outputs": [],
   "source": []
  }
 ],
 "metadata": {
  "kernelspec": {
   "display_name": "Python 3",
   "language": "python",
   "name": "python3"
  },
  "language_info": {
   "codemirror_mode": {
    "name": "ipython",
    "version": 3
   },
   "file_extension": ".py",
   "mimetype": "text/x-python",
   "name": "python",
   "nbconvert_exporter": "python",
   "pygments_lexer": "ipython3",
   "version": "3.7.1"
  }
 },
 "nbformat": 4,
 "nbformat_minor": 2
}
