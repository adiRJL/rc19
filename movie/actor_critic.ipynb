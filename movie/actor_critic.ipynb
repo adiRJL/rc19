{
 "cells": [
  {
   "cell_type": "code",
   "execution_count": 74,
   "metadata": {},
   "outputs": [
    {
     "name": "stdout",
     "output_type": "stream",
     "text": [
      "C:\\Users\\imane\\Anaconda3\\envs\\DeepLearning\\python.exe\n"
     ]
    }
   ],
   "source": [
    "import sys\n",
    "print(sys.executable)"
   ]
  },
  {
   "cell_type": "code",
   "execution_count": 8,
   "metadata": {},
   "outputs": [
    {
     "name": "stderr",
     "output_type": "stream",
     "text": [
      "Using TensorFlow backend.\n",
      "C:\\Users\\imane\\Anaconda3\\envs\\DeepLearning\\lib\\site-packages\\tensorflow\\python\\framework\\dtypes.py:526: FutureWarning: Passing (type, 1) or '1type' as a synonym of type is deprecated; in a future version of numpy, it will be understood as (type, (1,)) / '(1,)type'.\n",
      "  _np_qint8 = np.dtype([(\"qint8\", np.int8, 1)])\n",
      "C:\\Users\\imane\\Anaconda3\\envs\\DeepLearning\\lib\\site-packages\\tensorflow\\python\\framework\\dtypes.py:527: FutureWarning: Passing (type, 1) or '1type' as a synonym of type is deprecated; in a future version of numpy, it will be understood as (type, (1,)) / '(1,)type'.\n",
      "  _np_quint8 = np.dtype([(\"quint8\", np.uint8, 1)])\n",
      "C:\\Users\\imane\\Anaconda3\\envs\\DeepLearning\\lib\\site-packages\\tensorflow\\python\\framework\\dtypes.py:528: FutureWarning: Passing (type, 1) or '1type' as a synonym of type is deprecated; in a future version of numpy, it will be understood as (type, (1,)) / '(1,)type'.\n",
      "  _np_qint16 = np.dtype([(\"qint16\", np.int16, 1)])\n",
      "C:\\Users\\imane\\Anaconda3\\envs\\DeepLearning\\lib\\site-packages\\tensorflow\\python\\framework\\dtypes.py:529: FutureWarning: Passing (type, 1) or '1type' as a synonym of type is deprecated; in a future version of numpy, it will be understood as (type, (1,)) / '(1,)type'.\n",
      "  _np_quint16 = np.dtype([(\"quint16\", np.uint16, 1)])\n",
      "C:\\Users\\imane\\Anaconda3\\envs\\DeepLearning\\lib\\site-packages\\tensorflow\\python\\framework\\dtypes.py:530: FutureWarning: Passing (type, 1) or '1type' as a synonym of type is deprecated; in a future version of numpy, it will be understood as (type, (1,)) / '(1,)type'.\n",
      "  _np_qint32 = np.dtype([(\"qint32\", np.int32, 1)])\n",
      "C:\\Users\\imane\\Anaconda3\\envs\\DeepLearning\\lib\\site-packages\\tensorflow\\python\\framework\\dtypes.py:535: FutureWarning: Passing (type, 1) or '1type' as a synonym of type is deprecated; in a future version of numpy, it will be understood as (type, (1,)) / '(1,)type'.\n",
      "  np_resource = np.dtype([(\"resource\", np.ubyte, 1)])\n"
     ]
    }
   ],
   "source": [
    "import numpy as np\n",
    "import pandas as pd\n",
    "import pickle\n",
    "from nltk.corpus import stopwords\n",
    "from sklearn.decomposition import TruncatedSVD\n",
    "from sklearn.feature_extraction.text import TfidfVectorizer\n",
    "from sklearn import preprocessing\n",
    "from sklearn.preprocessing import LabelEncoder \n",
    "from sklearn.preprocessing import normalize\n",
    "\n",
    "from keras.models import Sequential\n",
    "from keras.layers import Dense"
   ]
  },
  {
   "cell_type": "code",
   "execution_count": 11,
   "metadata": {},
   "outputs": [],
   "source": [
    "def preproc(path):\n",
    "    data_r = pd.read_csv(path+'ratings.csv')\n",
    "    \n",
    "    \n",
    "    data_m = pd.read_csv(path+'movies.csv')\n",
    "    \n",
    "    \n",
    "    data_m['title_genre'] = data_m['title'] + data_m['genre'] #choice b/w doing separately or together\n",
    "    \n",
    "    data_m.drop([ 'origin_iid', 'title', 'genre'], axis='columns', inplace=True)\n",
    "    #print(data_r)\n",
    "    \n",
    "    \n",
    "    \n",
    "    #data_m = data_m.loc[data_m['itemId'].isin(item_id)]\n",
    "    \n",
    "    return data_m, data_r\n",
    "\n",
    "\n",
    "def create_tfidf_svd(str_list):\n",
    "    vectorizer = TfidfVectorizer(min_df=2, max_features=70000, strip_accents='unicode',lowercase =True,\n",
    "                            analyzer='word', token_pattern=r'\\w+', use_idf=True, \n",
    "                            smooth_idf=True, sublinear_tf=True, stop_words = 'english')\n",
    "    vectors = vectorizer.fit_transform(str_list)\n",
    "    svd = TruncatedSVD(n_components = 300)\n",
    "    vectors = svd.fit_transform(vectors)    #ndarray\n",
    "    #vectors = vectors.tolist()\n",
    "    return vectors\n",
    "\n",
    "def state_repr_module(vectors):\n",
    "    #element wise multiplcation + concatenation/flatten\n",
    "    S = []\n",
    "    for i in range(len(vectors)):\n",
    "        S.extend(vectors[i])\n",
    "    for i in range(0 , len(vectors)):\n",
    "        for j in range(i+1, len(vectors)):\n",
    "            S.extend(np.multiply(vectors[i], vectors[j]))\n",
    "    return S"
   ]
  },
  {
   "cell_type": "code",
   "execution_count": 12,
   "metadata": {},
   "outputs": [
    {
     "ename": "SyntaxError",
     "evalue": "invalid syntax (<ipython-input-12-ba45662642b4>, line 4)",
     "output_type": "error",
     "traceback": [
      "\u001b[1;36m  File \u001b[1;32m\"<ipython-input-12-ba45662642b4>\"\u001b[1;36m, line \u001b[1;32m4\u001b[0m\n\u001b[1;33m    model.add(Dense(8, activation='relu'))\u001b[0m\n\u001b[1;37m        ^\u001b[0m\n\u001b[1;31mSyntaxError\u001b[0m\u001b[1;31m:\u001b[0m invalid syntax\n"
     ]
    }
   ],
   "source": [
    "def actor(k):\n",
    "    model = Sequential()\n",
    "    model.add(Dense(12, input_dim=k, activation='relu')\n",
    "    model.add(Dense(8, activation='relu'))\n",
    "    model.add(Dense(1, activation='tanh'))\n",
    "    model.compile(loss='binary_crossentropy', optimizer='adam', metrics=['accuracy'])\n",
    "    ## action - a\n",
    "    return model\n",
    "\n",
    "def critic(k):\n",
    "    model = Sequential()\n",
    "    model.add(Dense(12, input_dim=k, activation='relu')\n",
    "    ##concat \n",
    "    model.add(Dense(8, activation='relu'))\n",
    "    model.add(Dense(1, activation='relu'))\n",
    "    \n",
    "    return model"
   ]
  },
  {
   "cell_type": "code",
   "execution_count": 13,
   "metadata": {},
   "outputs": [
    {
     "name": "stdout",
     "output_type": "stream",
     "text": [
      "(3706, 300)\n",
      "16500\n"
     ]
    }
   ],
   "source": [
    "def main():\n",
    "    path = 'data/'\n",
    "    data_m, data_r = preproc(path)\n",
    "    vectors = create_tfidf_svd(data_m['title_genre']) \n",
    "    print(vectors.shape)\n",
    "\n",
    "    \n",
    "    item_id = list(data_r.loc[data_r['userId'] == 0]['itemId']) ##selecting first user's item ids\n",
    "    user_vectors = []\n",
    "    for i in item_id:\n",
    "        user_vectors.append(vectors[i])\n",
    "    \n",
    "    n = 10\n",
    "    S = state_repr_module(user_vectors[0:n])\n",
    "    k = len(S)    #length of concat vector\n",
    "    \n",
    "    \n",
    "    \n",
    "    model = nn(k)\n",
    "    \n",
    "    model.fit(, , epochs=150, batch_size=10)\n",
    "    \n",
    "\n",
    "if __name__ == '__main__':\n",
    "    main()    \n"
   ]
  },
  {
   "cell_type": "code",
   "execution_count": 78,
   "metadata": {},
   "outputs": [
    {
     "data": {
      "text/html": [
       "<div>\n",
       "<style scoped>\n",
       "    .dataframe tbody tr th:only-of-type {\n",
       "        vertical-align: middle;\n",
       "    }\n",
       "\n",
       "    .dataframe tbody tr th {\n",
       "        vertical-align: top;\n",
       "    }\n",
       "\n",
       "    .dataframe thead th {\n",
       "        text-align: right;\n",
       "    }\n",
       "</style>\n",
       "<table border=\"1\" class=\"dataframe\">\n",
       "  <thead>\n",
       "    <tr style=\"text-align: right;\">\n",
       "      <th></th>\n",
       "      <th>origin_uid</th>\n",
       "      <th>userId</th>\n",
       "      <th>gender</th>\n",
       "      <th>age</th>\n",
       "      <th>occupation</th>\n",
       "      <th>zipcode</th>\n",
       "    </tr>\n",
       "  </thead>\n",
       "  <tbody>\n",
       "    <tr>\n",
       "      <td>5982</td>\n",
       "      <td>5983</td>\n",
       "      <td>5982</td>\n",
       "      <td>M</td>\n",
       "      <td>25</td>\n",
       "      <td>3</td>\n",
       "      <td>29208</td>\n",
       "    </tr>\n",
       "  </tbody>\n",
       "</table>\n",
       "</div>"
      ],
      "text/plain": [
       "      origin_uid  userId gender  age  occupation zipcode\n",
       "5982        5983    5982      M   25           3   29208"
      ]
     },
     "execution_count": 78,
     "metadata": {},
     "output_type": "execute_result"
    }
   ],
   "source": [
    "\n",
    "\n",
    "\n"
   ]
  },
  {
   "cell_type": "code",
   "execution_count": null,
   "metadata": {},
   "outputs": [],
   "source": []
  }
 ],
 "metadata": {
  "kernelspec": {
   "display_name": "Python 3",
   "language": "python",
   "name": "python3"
  },
  "language_info": {
   "codemirror_mode": {
    "name": "ipython",
    "version": 3
   },
   "file_extension": ".py",
   "mimetype": "text/x-python",
   "name": "python",
   "nbconvert_exporter": "python",
   "pygments_lexer": "ipython3",
   "version": "3.7.3"
  }
 },
 "nbformat": 4,
 "nbformat_minor": 2
}
